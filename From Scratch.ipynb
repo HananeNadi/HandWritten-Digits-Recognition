{
 "cells": [
  {
   "cell_type": "code",
   "execution_count": 45,
   "id": "9f9c05a4",
   "metadata": {},
   "outputs": [],
   "source": [
    "import numpy as np\n",
    "import matplotlib.pyplot as plt\n",
    "import random"
   ]
  },
  {
   "cell_type": "markdown",
   "id": "09c124c6",
   "metadata": {},
   "source": [
    "## Load the data"
   ]
  },
  {
   "cell_type": "markdown",
   "id": "92b9b3cc",
   "metadata": {},
   "source": [
    "\n",
    "The shape of X should be (n, m),\n",
    "And that of Y should be (10, m)\n",
    "\n",
    "Here, \n",
    "- n = total number of features\n",
    "- m = total number of observations in our dataset\n",
    "- 10 = number of output classes"
   ]
  },
  {
   "cell_type": "code",
   "execution_count": 46,
   "id": "a4a2f665",
   "metadata": {},
   "outputs": [],
   "source": [
    "X_train=np.loadtxt('train_X.csv',delimiter=',')\n",
    "Y_train=np.loadtxt('train_label.csv',delimiter=',')\n",
    "\n",
    "X_test=np.loadtxt('test_X.csv',delimiter=',')\n",
    "Y_test=np.loadtxt('test_label.csv',delimiter=',')"
   ]
  },
  {
   "cell_type": "code",
   "execution_count": 47,
   "id": "251fbcb1",
   "metadata": {},
   "outputs": [
    {
     "name": "stdout",
     "output_type": "stream",
     "text": [
      "Shape of X_train is : (1000, 784)\n",
      "Shape of Y_train is : (1000, 10)\n",
      "Shape of X_test is : (350, 784)\n",
      "Shape of Y_test is : (350, 10)\n"
     ]
    }
   ],
   "source": [
    "print(f\"Shape of X_train is : {X_train.shape}\")\n",
    "print(f\"Shape of Y_train is : {Y_train.shape}\")\n",
    "print(f\"Shape of X_test is : {X_test.shape}\")\n",
    "print(f\"Shape of Y_test is : {Y_test.shape}\")"
   ]
  },
  {
   "cell_type": "markdown",
   "id": "c3a4ead4",
   "metadata": {},
   "source": [
    "- we have 1000 observation in the train data \n",
    "- 350 observation in the test data\n",
    "- 784 came from 28X28=784 which is the total number of our features\n",
    "- 10 represente the one hot encoding(one at one position , for two it will be in the two position..)\n"
   ]
  },
  {
   "cell_type": "markdown",
   "id": "e76fbb79",
   "metadata": {},
   "source": [
    "we need to do the transposee to reshape them "
   ]
  },
  {
   "cell_type": "code",
   "execution_count": 48,
   "id": "144395cb",
   "metadata": {},
   "outputs": [],
   "source": [
    "X_train=np.loadtxt('train_X.csv',delimiter=',').T\n",
    "Y_train=np.loadtxt('train_label.csv',delimiter=',').T\n",
    "\n",
    "X_test=np.loadtxt('test_X.csv',delimiter=',').T\n",
    "Y_test=np.loadtxt('test_label.csv',delimiter=',').T\n"
   ]
  },
  {
   "cell_type": "code",
   "execution_count": 49,
   "id": "64a82703",
   "metadata": {},
   "outputs": [
    {
     "name": "stdout",
     "output_type": "stream",
     "text": [
      "Shape of X_train is : (784, 1000)\n",
      "Shape of Y_train is : (10, 1000)\n",
      "Shape of X_test is : (784, 350)\n",
      "Shape of Y_test is : (10, 350)\n"
     ]
    }
   ],
   "source": [
    "print(f\"Shape of X_train is : {X_train.shape}\")\n",
    "print(f\"Shape of Y_train is : {Y_train.shape}\")\n",
    "print(f\"Shape of X_test is : {X_test.shape}\")\n",
    "print(f\"Shape of Y_test is : {Y_test.shape}\")"
   ]
  },
  {
   "cell_type": "markdown",
   "id": "21ed59ce",
   "metadata": {},
   "source": [
    "### Visualizing our Dataset\n",
    "\n",
    "Our dataset is in the form of numbers. So, to visualize it properly, we will display it in the form of image"
   ]
  },
  {
   "cell_type": "code",
   "execution_count": 50,
   "id": "cbd9d9e4",
   "metadata": {},
   "outputs": [
    {
     "data": {
      "image/png": "[encoded data removed]",
      "text/plain": [
       "<Figure size 640x480 with 1 Axes>"
      ]
     },
     "metadata": {},
     "output_type": "display_data"
    }
   ],
   "source": [
    "#any number from 0 to 1000 \n",
    "index=random.randrange(0,X_train.shape[1])\n",
    "\n",
    "#exctract the image at any random index value\n",
    "#bcs its an array of 784 element we will reshape it \n",
    "plt.imshow(X_train[:,index].reshape(28,28),cmap='gray')\n",
    "plt.show()"
   ]
  },
  {
   "cell_type": "markdown",
   "id": "5f829f36",
   "metadata": {},
   "source": [
    "every time it will display a random image"
   ]
  },
  {
   "cell_type": "markdown",
   "id": "70995f2f",
   "metadata": {},
   "source": [
    "## Implementation of\\ the model "
   ]
  },
  {
   "cell_type": "markdown",
   "id": "10e930f8",
   "metadata": {},
   "source": [
    "![title](nn.png)"
   ]
  },
  {
   "cell_type": "markdown",
   "id": "0ffd1bca",
   "metadata": {},
   "source": [
    "## Initialize parameters Randomly\n",
    "$ W_1 = np.random.randn(n_1, n_0) $\n",
    "\n",
    "$ b_1 = np.zeros((n_1, 1))$\n",
    "\n",
    "$ W_2 = np.random.randn(n_2, n_1) $\n",
    "\n",
    "$ b_2 = np.zeros((n_2, 1))$\n",
    "\n",
    "\n",
    "## *Repeat Below Steps for many times : *\n",
    "\n",
    "\n",
    "## Forward Propagation \n",
    "\n",
    "$ Z_1 = W_1 * X + B_1 $\n",
    "\n",
    "$ A_1 = f ( Z_1 ) $  \n",
    "\n",
    "$ Z_2 = W2 * A_1 + B_2 $\n",
    "\n",
    "$ A_2 = Softmax( Z_2 ) $\n",
    "\n",
    "## Softmax \n",
    "\n",
    "$ a_i = \\frac{e^{z_i}}{\\sum_{i=k}^ne^{z_k}}$\n",
    "\n",
    "\n",
    "## Cost Function \n",
    "\n",
    "$Loss = - \\sum_{i=k}^{n}[ y_k*log(a_k) ]$\n",
    "\n",
    "$Cost = - \\frac{1}{m}\\sum_{i=1}^{m}\\sum_{k=1}^{n}[ y_k*log(a_k) ]$\n",
    "\n",
    "\n",
    "\n",
    "## Backward Propagation\n",
    "$dZ_2 = ( A_2 - Y )$\n",
    "\n",
    "$ dW_2 = \\frac{1}{m}. dZ_2 . A_1^T$\n",
    "\n",
    "$ dB_2 = \\frac{1}{m}.sum(dZ_2, 1)$\n",
    "\n",
    "\n",
    "\n",
    "$dZ_1 = W_2^T . dZ_2 * f_1^|(Z_1) $\n",
    "\n",
    "$dW_1 = \\frac{1}{m}.dZ_1.X^T$\n",
    "\n",
    "$dB_1 = \\frac{1}{m}.sum(dZ_1, 1)$\n",
    "\n",
    "\n",
    "## Updating Parameters\n",
    "\n",
    "$ W_2 = W_2 -  \\alpha * \\frac{\\partial Cost }{\\partial W_2}$ \n",
    "\n",
    "$ B_2 = B_2 -  \\alpha * \\frac{\\partial Cost }{\\partial B_2}$ \n",
    "\n",
    "$ W_1 = W_1 -  \\alpha * \\frac{\\partial Cost }{\\partial W_1}$ \n",
    "\n",
    "$ B_1 = B_1 -  \\alpha * \\frac{\\partial Cost }{\\partial B_1}$ \n"
   ]
  },
  {
   "cell_type": "markdown",
   "id": "fc9e8990",
   "metadata": {},
   "source": [
    "## Activation functions"
   ]
  },
  {
   "cell_type": "code",
   "execution_count": 77,
   "id": "c04b5857",
   "metadata": {},
   "outputs": [],
   "source": [
    "def tanh(x):\n",
    "    return np.tanh(x)\n",
    "\n",
    "def Relu(x):\n",
    "    return np.maximum(x,0)\n",
    "\n",
    "def Softmax(x):\n",
    "    expX=np.exp(x)\n",
    "    return expX/np.sum(expX,axis=0)\n"
   ]
  },
  {
   "cell_type": "code",
   "execution_count": 52,
   "id": "8cd569b7",
   "metadata": {},
   "outputs": [],
   "source": [
    "def derivative_tanh(x):\n",
    "    return (1 -  np.power(tanh(x), 2))\n",
    "\n",
    "def derivative_Relu(x):\n",
    "    #to make the return 0 or 1 not true or false\n",
    "    return np.array(x>0, dtype=np.float32)"
   ]
  },
  {
   "cell_type": "markdown",
   "id": "1a8281aa",
   "metadata": {},
   "source": [
    "# Initialize Parameters\n",
    "\n",
    "We need to initialize the **W** parameters randomly, and **B** with zeros\n",
    "\n",
    "- np.random.randn(a, b) return a numpy array of shape(a, b) with small random values\n",
    "- For making the values small, we multiply 0.01\n",
    "- np.zeros((a, b) return a numpy array of shape(a, b) with zeros \n",
    "\n",
    "### Why need small weights W?\n",
    "If we initialize weights will large values, then Z = W * X + B, will be large. For functions like tanh and sigmoid, the slope becomes very less for large Z value, thus learning can be very slow.\n",
    "\n",
    "#### Remember, we had an increase in the cost function at the beginning while training the model with ReLU activation function?\n",
    "It is because our weights were still very large and it was creating problem for training our model.\n",
    "\n",
    "Multiply weights with 0.001 instead of 0.01, and you will see that the graph becomes normal, with a smooth decrease in cost value.\n",
    "\n",
    "Now, We need to return a dictionary containing all the parameters.\n"
   ]
  },
  {
   "cell_type": "markdown",
   "id": "38b39446",
   "metadata": {},
   "source": [
    "### *I multiplied 0.01 with weights W. But, this is still large, and that is the reason we saw increase in Cost value at the beginning, while training the model with ReLU function.*\n",
    "\n",
    "### *So, instead, you can multiply with 0.001, and it will solve the problem.*"
   ]
  },
  {
   "cell_type": "markdown",
   "id": "c5a8c6a7",
   "metadata": {},
   "source": [
    "- **n_x :**  nbr of neurons in the input layer\n",
    "- **n_h :**  nbr of neurons in the hideen layer\n",
    "- **n_y :**  nbr of neurons in the output layer"
   ]
  },
  {
   "cell_type": "code",
   "execution_count": 89,
   "id": "62590b01",
   "metadata": {},
   "outputs": [],
   "source": [
    "def initialize_parameters(n_x, n_h, n_y):\n",
    "    w1 = np.random.randn(n_h, n_x)*0.001\n",
    "    b1 = np.zeros((n_h, 1))\n",
    "    \n",
    "    w2 = np.random.randn(n_y, n_h)*0.001\n",
    "    b2 = np.zeros((n_y, 1))\n",
    "    \n",
    "    parameters = {\n",
    "        \"w1\" : w1,\n",
    "        \"b1\" : b1,\n",
    "        \"w2\" : w2,\n",
    "        \"b2\" : b2\n",
    "    }\n",
    "    \n",
    "    return parameters"
   ]
  },
  {
   "cell_type": "markdown",
   "id": "bb97c702",
   "metadata": {},
   "source": [
    "## Forward Propagation \n",
    "\n",
    "$ Z_1 = W_1 * X + B_1 $\n",
    "\n",
    "$ A_1 = f ( Z_1 ) $  \n",
    "\n",
    "$ Z_2 = W2 * A_1 + B_2 $\n",
    "\n",
    "$ A_2 = Softmax( Z_2 ) $\n"
   ]
  },
  {
   "cell_type": "code",
   "execution_count": 90,
   "id": "def6ec98",
   "metadata": {},
   "outputs": [],
   "source": [
    "def forward_propagation(x, parameters):\n",
    "    \n",
    "    w1 = parameters['w1']\n",
    "    b1 = parameters['b1']\n",
    "    w2 = parameters['w2']\n",
    "    b2 = parameters['b2']\n",
    "    \n",
    "    z1 = np.dot(w1,x) + b1\n",
    "    a1 = tanh(z1)\n",
    "    \n",
    "    z2 = np.dot(w2, a1) + b2\n",
    "    a2 = Softmax(z2)\n",
    "    \n",
    "    forward_cache = {\n",
    "        \"z1\" : z1,\n",
    "        \"a1\" : a1,\n",
    "        \"z2\" : z2,\n",
    "        \"a2\" : a2\n",
    "    }\n",
    "    \n",
    "    return forward_cache"
   ]
  },
  {
   "cell_type": "markdown",
   "id": "b1c4b8f7",
   "metadata": {},
   "source": [
    "## Cost Function \n",
    "\n",
    "$Loss = - \\sum_{i=k}^{n}[ y_k*log(a_k) ]$\n",
    "\n",
    "$Cost = - \\frac{1}{m}\\sum_{i=1}^{m}\\sum_{k=1}^{n}[ y_k*log(a_k) ]$\n"
   ]
  },
  {
   "cell_type": "code",
   "execution_count": 91,
   "id": "0ee38e24",
   "metadata": {},
   "outputs": [],
   "source": [
    "def cost_function(a2,y):\n",
    "    #total nbr of observation\n",
    "    m=y.shape[1]\n",
    "    cost=-(1/m)*np.sum(y*np.log(a2))\n",
    "    return cost"
   ]
  },
  {
   "cell_type": "markdown",
   "id": "4b9b519c",
   "metadata": {},
   "source": [
    "## Backward Propagation\n",
    "$dZ_2 = ( A_2 - Y )$\n",
    "\n",
    "$ dW_2 = \\frac{1}{m}. dZ_2 . A_1^T$\n",
    "\n",
    "$ dB_2 = \\frac{1}{m}.sum(dZ_2, 1)$\n",
    "\n",
    "\n",
    "\n",
    "$dZ_1 = W_2^T . dZ_2 * f_1^|(Z_1) $\n",
    "\n",
    "$dW_1 = \\frac{1}{m}.dZ_1.X^T$\n",
    "\n",
    "$dB_1 = \\frac{1}{m}.sum(dZ_1, 1)$"
   ]
  },
  {
   "cell_type": "code",
   "execution_count": 92,
   "id": "7cddc5c6",
   "metadata": {},
   "outputs": [],
   "source": [
    "def backward_propagation(x, y, parameters, forward_cache):\n",
    "    \n",
    "    w1 = parameters['w1']\n",
    "    b1 = parameters['b1']\n",
    "    w2 = parameters['w2']\n",
    "    b2 = parameters['b2']\n",
    "    \n",
    "    a1 = forward_cache['a1']\n",
    "    a2 = forward_cache['a2']\n",
    "    \n",
    "    m = x.shape[1]\n",
    "    \n",
    "    dz2 = (a2 - y)\n",
    "    dw2 = (1/m)*np.dot(dz2, a1.T)\n",
    "    db2 = (1/m)*np.sum(dz2, axis = 1, keepdims = True)\n",
    "    \n",
    "    dz1 = (1/m)*np.dot(w2.T, dz2)*derivative_tanh(a1)\n",
    "    dw1 = (1/m)*np.dot(dz1, x.T)\n",
    "    db1 = (1/m)*np.sum(dz1, axis = 1, keepdims = True)\n",
    "    \n",
    "    gradients = {\n",
    "        \"dw1\" : dw1,\n",
    "        \"db1\" : db1,\n",
    "        \"dw2\" : dw2,\n",
    "        \"db2\" : db2\n",
    "    }\n",
    "    \n",
    "    return gradients"
   ]
  },
  {
   "cell_type": "markdown",
   "id": "92257668",
   "metadata": {},
   "source": [
    "## Updating Parameters\n",
    "\n",
    "$ W_2 = W_2 -  \\alpha * \\frac{\\partial Cost }{\\partial W_2}$ \n",
    "\n",
    "$ B_2 = B_2 -  \\alpha * \\frac{\\partial Cost }{\\partial B_2}$ \n",
    "\n",
    "$ W_1 = W_1 -  \\alpha * \\frac{\\partial Cost }{\\partial W_1}$ \n",
    "\n",
    "$ B_1 = B_1 -  \\alpha * \\frac{\\partial Cost }{\\partial B_1}$ "
   ]
  },
  {
   "cell_type": "code",
   "execution_count": 93,
   "id": "928c7a0c",
   "metadata": {},
   "outputs": [],
   "source": [
    "def updating_parametres(parameters,gradients,learning_rate):\n",
    "    w1=parameters['w1']\n",
    "    b1=parameters['b1']\n",
    "    w2=parameters['w2']\n",
    "    b2=parameters['b2']\n",
    "    \n",
    "    dw1=gradients['dw1']\n",
    "    db1=gradients['db1']\n",
    "    dw2=gradients['dw2']\n",
    "    db2=gradients['db2']\n",
    "    \n",
    "    w1=w1-learning_rate*dw1\n",
    "    b1=b1-learning_rate*db1\n",
    "    w2=w2-learning_rate*dw2\n",
    "    b2=b2-learning_rate*db2\n",
    "    \n",
    "    parameters = {\n",
    "        \"w1\" : w1,\n",
    "        \"b1\" : b1,\n",
    "        \"w2\" : w2,\n",
    "        \"b2\" : b2\n",
    "    }\n",
    "    \n",
    "    return parameters\n",
    "\n",
    "    \n",
    "    "
   ]
  },
  {
   "cell_type": "markdown",
   "id": "e6d012fa",
   "metadata": {},
   "source": [
    "# Complete Model"
   ]
  },
  {
   "cell_type": "code",
   "execution_count": 94,
   "id": "7e9d42e1",
   "metadata": {},
   "outputs": [],
   "source": [
    "def Model(x,y,n_h,learning_rate,iterations):\n",
    "    n_x=x.shape[0]\n",
    "    n_y=y.shape[0]\n",
    "    \n",
    "    parameters=initialize_parameters(n_x,n_h,n_y)\n",
    "    cost_list=[]\n",
    "    for i in range(iterations):\n",
    "        forward_cache=forward_propagation(x,parameters)\n",
    "        cost= cost_function(forward_cache['a2'],y)\n",
    "        gradients=backward_propagation(x,y,parameters,forward_cache)\n",
    "        parameters=updating_parametres(parameters,gradients,learning_rate)\n",
    "        cost_list.append(cost)\n",
    "        if(i%(iterations/10) == 0):\n",
    "            print(\"Cost after\", i, \"iterations is :\", cost)\n",
    "        \n",
    "    return parameters, cost_list\n",
    "    "
   ]
  },
  {
   "cell_type": "code",
   "execution_count": 95,
   "id": "dcb4f70d",
   "metadata": {},
   "outputs": [
    {
     "name": "stdout",
     "output_type": "stream",
     "text": [
      "Cost after 0 iterations is : 2.308124611222332\n",
      "Cost after 10 iterations is : 1.2823035370239764\n",
      "Cost after 20 iterations is : 0.8881497895826066\n",
      "Cost after 30 iterations is : 0.6957936879548396\n",
      "Cost after 40 iterations is : 0.5821403061573658\n",
      "Cost after 50 iterations is : 0.5058690587944032\n",
      "Cost after 60 iterations is : 0.4501550602011337\n",
      "Cost after 70 iterations is : 0.40699519818488616\n",
      "Cost after 80 iterations is : 0.3721153487376469\n",
      "Cost after 90 iterations is : 0.3430273444897963\n"
     ]
    }
   ],
   "source": [
    "iterations = 100\n",
    "n_h = 1000\n",
    "learning_rate = 0.02\n",
    "Parameters, Cost_list = Model(X_train, Y_train, n_h = n_h, learning_rate = learning_rate, iterations = iterations)"
   ]
  },
  {
   "cell_type": "code",
   "execution_count": 96,
   "id": "25737208",
   "metadata": {},
   "outputs": [
    {
     "data": {
      "image/png": "[encoded data removed]",
      "text/plain": [
       "<Figure size 640x480 with 1 Axes>"
      ]
     },
     "metadata": {},
     "output_type": "display_data"
    }
   ],
   "source": [
    "t = np.arange(0, iterations)\n",
    "plt.plot(t, Cost_list)\n",
    "plt.show()"
   ]
  },
  {
   "cell_type": "code",
   "execution_count": 98,
   "id": "4103129b",
   "metadata": {},
   "outputs": [],
   "source": [
    "def accuracy(inp, labels, parameters):\n",
    "    forward_cache = forward_propagation(inp, parameters)\n",
    "    a_out = forward_cache['a2']   # containes propabilities with shape(10, 1)\n",
    "    \n",
    "    #the index with the highest proba + the proba\n",
    "    a_out = np.argmax(a_out, 0)  # 0 represents row wise \n",
    "    \n",
    "    labels = np.argmax(labels, 0)\n",
    "    \n",
    "    acc = np.mean(a_out == labels)*100\n",
    "    \n",
    "    return acc"
   ]
  },
  {
   "cell_type": "code",
   "execution_count": 99,
   "id": "0e47f737",
   "metadata": {},
   "outputs": [
    {
     "name": "stdout",
     "output_type": "stream",
     "text": [
      "Accuracy of Train Dataset 94.1 %\n",
      "Accuracy of Test Dataset 86.0 %\n"
     ]
    }
   ],
   "source": [
    "print(\"Accuracy of Train Dataset\", accuracy(X_train, Y_train, Parameters), \"%\")\n",
    "print(\"Accuracy of Test Dataset\", round(accuracy(X_test, Y_test, Parameters), 2), \"%\")"
   ]
  },
  {
   "cell_type": "code",
   "execution_count": 108,
   "id": "b3ee7bcd",
   "metadata": {},
   "outputs": [
    {
     "data": {
      "image/png": "[encoded data removed]",
      "text/plain": [
       "<Figure size 640x480 with 1 Axes>"
      ]
     },
     "metadata": {},
     "output_type": "display_data"
    },
    {
     "name": "stdout",
     "output_type": "stream",
     "text": [
      "Our model says it is : 0\n"
     ]
    }
   ],
   "source": [
    "idx = int(random.randrange(0,X_test.shape[1]))\n",
    "plt.imshow(X_test[:, idx].reshape((28,28)),cmap='gray')\n",
    "plt.show()\n",
    "\n",
    "cache = forward_propagation(X_test[:, idx].reshape(X_test[:, idx].shape[0], 1), Parameters)\n",
    "a_pred = cache['a2']  \n",
    "a_pred = np.argmax(a_pred, 0)\n",
    "\n",
    "print(\"Our model says it is :\", a_pred[0])"
   ]
  },
  {
   "cell_type": "code",
   "execution_count": null,
   "id": "b232d34f",
   "metadata": {},
   "outputs": [],
   "source": []
  },
  {
   "cell_type": "code",
   "execution_count": null,
   "id": "436f0290",
   "metadata": {},
   "outputs": [],
   "source": []
  },
  {
   "cell_type": "code",
   "execution_count": null,
   "id": "00ce5555",
   "metadata": {},
   "outputs": [],
   "source": []
  },
  {
   "cell_type": "code",
   "execution_count": null,
   "id": "e6848932",
   "metadata": {},
   "outputs": [],
   "source": []
  },
  {
   "cell_type": "code",
   "execution_count": null,
   "id": "0db38f53",
   "metadata": {},
   "outputs": [],
   "source": []
  },
  {
   "cell_type": "code",
   "execution_count": null,
   "id": "862cf38a",
   "metadata": {},
   "outputs": [],
   "source": []
  }
 ],
 "metadata": {
  "kernelspec": {
   "display_name": "Python 3 (ipykernel)",
   "language": "python",
   "name": "python3"
  },
  "language_info": {
   "codemirror_mode": {
    "name": "ipython",
    "version": 3
   },
   "file_extension": ".py",
   "mimetype": "text/x-python",
   "name": "python",
   "nbconvert_exporter": "python",
   "pygments_lexer": "ipython3",
   "version": "3.10.9"
  }
 },
 "nbformat": 4,
 "nbformat_minor": 5
}
